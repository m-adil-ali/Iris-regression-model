{
 "cells": [
  {
   "cell_type": "code",
   "execution_count": 1,
   "metadata": {},
   "outputs": [
    {
     "name": "stdout",
     "output_type": "stream",
     "text": [
      "{'copy_X': True, 'fit_intercept': True, 'n_jobs': None, 'positive': False}\n"
     ]
    }
   ],
   "source": [
    "from sklearn.linear_model import LinearRegression\n",
    "# create model\n",
    "model = LinearRegression()\n",
    "# get parameters list\n",
    "print(model.get_params())"
   ]
  },
  {
   "cell_type": "code",
   "execution_count": 2,
   "metadata": {},
   "outputs": [
    {
     "name": "stdout",
     "output_type": "stream",
     "text": [
      "{'bootstrap': True, 'ccp_alpha': 0.0, 'class_weight': None, 'criterion': 'gini', 'max_depth': None, 'max_features': 'sqrt', 'max_leaf_nodes': None, 'max_samples': None, 'min_impurity_decrease': 0.0, 'min_samples_leaf': 1, 'min_samples_split': 2, 'min_weight_fraction_leaf': 0.0, 'monotonic_cst': None, 'n_estimators': 100, 'n_jobs': None, 'oob_score': False, 'random_state': None, 'verbose': 0, 'warm_start': False}\n"
     ]
    }
   ],
   "source": [
    "# parameters of random forest classifier\n",
    "from sklearn.ensemble import RandomForestClassifier\n",
    "model = RandomForestClassifier()\n",
    "print(model.get_params())"
   ]
  },
  {
   "cell_type": "code",
   "execution_count": 3,
   "metadata": {},
   "outputs": [
    {
     "name": "stdout",
     "output_type": "stream",
     "text": [
      "{'algorithm': 'auto', 'leaf_size': 30, 'metric': 'minkowski', 'metric_params': None, 'n_jobs': None, 'n_neighbors': 5, 'p': 2, 'weights': 'uniform'}\n"
     ]
    }
   ],
   "source": [
    "# parameters of random forest classifier\n",
    "from sklearn.neighbors import KNeighborsClassifier\n",
    "model = KNeighborsClassifier()\n",
    "print(model.get_params())"
   ]
  },
  {
   "cell_type": "code",
   "execution_count": 6,
   "metadata": {},
   "outputs": [
    {
     "name": "stdout",
     "output_type": "stream",
     "text": [
      "best parameters:  {'fit_intercept': True}\n"
     ]
    }
   ],
   "source": [
    "# for Linear Regression\n",
    "import pandas as pd\n",
    "import seaborn as sns\n",
    "df = sns.load_dataset(\"titanic\")\n",
    "df['age'] = df['age'].fillna(df['age'].mean())\n",
    "\n",
    "x = df[['age']]\n",
    "y = df['fare']\n",
    "\n",
    "from sklearn.linear_model import LinearRegression\n",
    "from sklearn.model_selection import GridSearchCV\n",
    "# creating a model\n",
    "model = LinearRegression()\n",
    "# define parameter grid\n",
    "param_grid = {'fit_intercept': [True,False]}\n",
    "\n",
    "# object grid search CV\n",
    "grid_search = GridSearchCV(model,param_grid,cv=5, scoring='r2')\n",
    "\n",
    "#training model\n",
    "grid_search.fit(x,y)\n",
    "\n",
    "# print the best parameters\n",
    "\n",
    "print(\"best parameters: \", grid_search.best_params_)"
   ]
  },
  {
   "cell_type": "code",
   "execution_count": 7,
   "metadata": {},
   "outputs": [
    {
     "data": {
      "text/plain": [
       "Index(['survived', 'pclass', 'sex', 'age', 'sibsp', 'parch', 'fare',\n",
       "       'embarked', 'class', 'who', 'adult_male', 'deck', 'embark_town',\n",
       "       'alive', 'alone'],\n",
       "      dtype='object')"
      ]
     },
     "execution_count": 7,
     "metadata": {},
     "output_type": "execute_result"
    }
   ],
   "source": [
    "df.columns"
   ]
  },
  {
   "cell_type": "markdown",
   "metadata": {},
   "source": [
    "# KKN Grid Search CV"
   ]
  },
  {
   "cell_type": "code",
   "execution_count": 26,
   "metadata": {},
   "outputs": [
    {
     "name": "stdout",
     "output_type": "stream",
     "text": [
      "best parameters:  {'n_neighbors': 7, 'weights': 'distance'}\n",
      "best score:  0.6234282955414141\n"
     ]
    }
   ],
   "source": [
    "# for KNN\n",
    "import pandas as pd\n",
    "import seaborn as sns\n",
    "import numpy as np\n",
    "df = sns.load_dataset(\"titanic\")\n",
    "\n",
    "\n",
    "x = df[['pclass', 'sex', 'age', 'sibsp', 'parch', 'fare']]\n",
    "y = df['survived']\n",
    "x = pd.get_dummies(x, columns=['sex'])\n",
    "x.age.fillna(value= x['age'].mean(), inplace= True)\n",
    "\n",
    "from sklearn.neighbors import KNeighborsClassifier\n",
    "from sklearn.model_selection import GridSearchCV\n",
    "# creating a model\n",
    "model = KNeighborsClassifier()\n",
    "# define parameter grid\n",
    "param_grid = {'n_neighbors': np.arange(1,40,2) , 'weights': ['uniform', 'distance']}  # range must not be over fitted,1% of the data must be neighbour\n",
    " \n",
    "# object grid search CV\n",
    "grid_search = GridSearchCV(model,param_grid,cv=5, scoring='f1') #recall, precision, f1\n",
    "\n",
    "#training model\n",
    "grid_search.fit(x,y)\n",
    "\n",
    "# print the best parameters\n",
    "\n",
    "print(\"best parameters: \", grid_search.best_params_)\n",
    "print(\"best score: \", grid_search.best_score_)"
   ]
  },
  {
   "cell_type": "code",
   "execution_count": 27,
   "metadata": {},
   "outputs": [
    {
     "name": "stdout",
     "output_type": "stream",
     "text": [
      "{'ccp_alpha': 0.0, 'class_weight': None, 'criterion': 'gini', 'max_depth': None, 'max_features': None, 'max_leaf_nodes': None, 'min_impurity_decrease': 0.0, 'min_samples_leaf': 1, 'min_samples_split': 2, 'min_weight_fraction_leaf': 0.0, 'monotonic_cst': None, 'random_state': None, 'splitter': 'best'}\n"
     ]
    }
   ],
   "source": [
    "# parameters of Decision Tree classifier\n",
    "from sklearn.tree import DecisionTreeClassifier\n",
    "model = DecisionTreeClassifier()\n",
    "print(model.get_params())"
   ]
  },
  {
   "cell_type": "markdown",
   "metadata": {},
   "source": [
    "# Decision Tree"
   ]
  },
  {
   "cell_type": "code",
   "execution_count": 28,
   "metadata": {},
   "outputs": [
    {
     "name": "stdout",
     "output_type": "stream",
     "text": [
      "best parameters:  {'max_depth': 7, 'min_samples_split': 3}\n",
      "best score:  0.8184478931012638\n"
     ]
    }
   ],
   "source": [
    "# for Decision Tree\n",
    "import pandas as pd\n",
    "import seaborn as sns\n",
    "import numpy as np\n",
    "df = sns.load_dataset(\"titanic\")\n",
    "\n",
    "\n",
    "x = df[['pclass', 'sex', 'age', 'sibsp', 'parch', 'fare']]\n",
    "y = df['survived']\n",
    "x = pd.get_dummies(x, columns=['sex'])\n",
    "x.age.fillna(value= x['age'].mean(), inplace= True)\n",
    "\n",
    "from sklearn.tree import DecisionTreeClassifier\n",
    "from sklearn.model_selection import GridSearchCV\n",
    "# creating a model\n",
    "model = DecisionTreeClassifier()\n",
    "# define parameter grid\n",
    "param_grid = {'max_depth': [3,5,7 , None], 'min_samples_split': [2,3,4]}  # range must not be over fitted,1% of the data must be neighbour\n",
    " \n",
    "# object grid search CV\n",
    "grid_search = GridSearchCV(model,param_grid,cv=5, scoring='precision') #recall, precision, f1\n",
    "\n",
    "#training model\n",
    "grid_search.fit(x,y)\n",
    "\n",
    "# print the best parameters\n",
    "\n",
    "print(\"best parameters: \", grid_search.best_params_)\n",
    "print(\"best score: \", grid_search.best_score_)"
   ]
  },
  {
   "cell_type": "code",
   "execution_count": 29,
   "metadata": {},
   "outputs": [
    {
     "name": "stdout",
     "output_type": "stream",
     "text": [
      "{'bootstrap': True, 'ccp_alpha': 0.0, 'class_weight': None, 'criterion': 'gini', 'max_depth': None, 'max_features': 'sqrt', 'max_leaf_nodes': None, 'max_samples': None, 'min_impurity_decrease': 0.0, 'min_samples_leaf': 1, 'min_samples_split': 2, 'min_weight_fraction_leaf': 0.0, 'monotonic_cst': None, 'n_estimators': 100, 'n_jobs': None, 'oob_score': False, 'random_state': None, 'verbose': 0, 'warm_start': False}\n"
     ]
    }
   ],
   "source": [
    "# parameters of Decision Tree classifier\n",
    "from sklearn.ensemble import RandomForestClassifier\n",
    "model = RandomForestClassifier()\n",
    "print(model.get_params())"
   ]
  },
  {
   "cell_type": "code",
   "execution_count": 31,
   "metadata": {},
   "outputs": [
    {
     "name": "stdout",
     "output_type": "stream",
     "text": [
      "best parameters:  {'max_depth': 7, 'max_features': 'log2', 'min_samples_split': 2, 'n_estimators': 10}\n",
      "best score:  0.8233473959284912\n"
     ]
    }
   ],
   "source": [
    "# for Random forest classifier\n",
    "import pandas as pd\n",
    "import seaborn as sns\n",
    "import numpy as np\n",
    "df = sns.load_dataset(\"titanic\")\n",
    "\n",
    "\n",
    "x = df[['pclass', 'sex', 'age', 'sibsp', 'parch', 'fare']]\n",
    "y = df['survived']\n",
    "x = pd.get_dummies(x, columns=['sex'])\n",
    "x.age.fillna(value= x['age'].mean(), inplace= True)\n",
    "\n",
    "from sklearn.ensemble import RandomForestClassifier\n",
    "from sklearn.model_selection import GridSearchCV\n",
    "# creating a model\n",
    "model = RandomForestClassifier()\n",
    "# define parameter grid\n",
    "param_grid = {'n_estimators': [10,50,100],\n",
    "              'max_depth': [3,5,7,None],\n",
    "              'min_samples_split': [2,3,4],\n",
    "              'max_features': ['log2']}  # range must not be over fitted,1% of the data must be neighbour\n",
    " \n",
    "# object grid search CV\n",
    "grid_search = GridSearchCV(model,param_grid,cv=5, scoring='precision') #recall, precision, f1\n",
    "\n",
    "#training model\n",
    "grid_search.fit(x,y)\n",
    "\n",
    "# print the best parameters\n",
    "\n",
    "print(\"best parameters: \", grid_search.best_params_)\n",
    "print(\"best score: \", grid_search.best_score_)"
   ]
  },
  {
   "cell_type": "code",
   "execution_count": null,
   "metadata": {},
   "outputs": [],
   "source": []
  }
 ],
 "metadata": {
  "kernelspec": {
   "display_name": "Python 3",
   "language": "python",
   "name": "python3"
  },
  "language_info": {
   "codemirror_mode": {
    "name": "ipython",
    "version": 3
   },
   "file_extension": ".py",
   "mimetype": "text/x-python",
   "name": "python",
   "nbconvert_exporter": "python",
   "pygments_lexer": "ipython3",
   "version": "3.12.1"
  }
 },
 "nbformat": 4,
 "nbformat_minor": 2
}
